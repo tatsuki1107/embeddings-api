{
 "cells": [
  {
   "cell_type": "code",
   "execution_count": 3,
   "id": "6c7d50f7-e028-4aa5-ba72-8e0cfcc4132b",
   "metadata": {},
   "outputs": [],
   "source": [
    "import pandas as pd\n",
    "\n",
    "titles = [\n",
    "    \"World Briefings\", \n",
    "    \"Nvidia Puts a Firewall on a Motherboard (PC World)\",\n",
    "    \"Olympic joy in Greek, Chinese press\",\n",
    "    \"U2 Can iPod with Pictures\",\n",
    "    \"The Dream Factory\",\n",
    "    \"Fierce clashes kill three US soldiers, injure 14 in Afghanistan\",\n",
    "    \"US-EU talks on Airbus subsidies fail\",\n",
    "    \"Aussie alive after capture in Iraq\",\n",
    "    \"Israeli Helicopter Fires Missile in Gaza -Witnesses\",\n",
    "    \"Ballmer: We need a \\$100 PC\"\n",
    "]\n",
    "\n",
    "df = pd.DataFrame(data=[{\"title\": t} for t in titles])"
   ]
  },
  {
   "cell_type": "code",
   "execution_count": 4,
   "id": "22e4f733-3d8f-45ff-98ab-42232ea53c3a",
   "metadata": {},
   "outputs": [
    {
     "data": {
      "text/html": [
       "<div>\n",
       "<style scoped>\n",
       "    .dataframe tbody tr th:only-of-type {\n",
       "        vertical-align: middle;\n",
       "    }\n",
       "\n",
       "    .dataframe tbody tr th {\n",
       "        vertical-align: top;\n",
       "    }\n",
       "\n",
       "    .dataframe thead th {\n",
       "        text-align: right;\n",
       "    }\n",
       "</style>\n",
       "<table border=\"1\" class=\"dataframe\">\n",
       "  <thead>\n",
       "    <tr style=\"text-align: right;\">\n",
       "      <th></th>\n",
       "      <th>title</th>\n",
       "    </tr>\n",
       "  </thead>\n",
       "  <tbody>\n",
       "    <tr>\n",
       "      <th>0</th>\n",
       "      <td>World Briefings</td>\n",
       "    </tr>\n",
       "    <tr>\n",
       "      <th>1</th>\n",
       "      <td>Nvidia Puts a Firewall on a Motherboard (PC Wo...</td>\n",
       "    </tr>\n",
       "    <tr>\n",
       "      <th>2</th>\n",
       "      <td>Olympic joy in Greek, Chinese press</td>\n",
       "    </tr>\n",
       "    <tr>\n",
       "      <th>3</th>\n",
       "      <td>U2 Can iPod with Pictures</td>\n",
       "    </tr>\n",
       "    <tr>\n",
       "      <th>4</th>\n",
       "      <td>The Dream Factory</td>\n",
       "    </tr>\n",
       "  </tbody>\n",
       "</table>\n",
       "</div>"
      ],
      "text/plain": [
       "                                               title\n",
       "0                                    World Briefings\n",
       "1  Nvidia Puts a Firewall on a Motherboard (PC Wo...\n",
       "2                Olympic joy in Greek, Chinese press\n",
       "3                          U2 Can iPod with Pictures\n",
       "4                                  The Dream Factory"
      ]
     },
     "execution_count": 4,
     "metadata": {},
     "output_type": "execute_result"
    }
   ],
   "source": [
    "df.head()"
   ]
  },
  {
   "cell_type": "code",
   "execution_count": 5,
   "id": "807c60a4-8bf2-40bf-a72c-bd28c85f569b",
   "metadata": {},
   "outputs": [],
   "source": [
    "from main import get_embedding\n",
    "\n",
    "df[\"embedding\"] = df[\"title\"].apply(lambda x: get_embedding(x))"
   ]
  },
  {
   "cell_type": "code",
   "execution_count": 6,
   "id": "2bcab2e9-65f5-426f-8e7b-0db0c2eca294",
   "metadata": {},
   "outputs": [],
   "source": [
    "from main import vector_search\n",
    "\n",
    "embeddings = df[\"embedding\"].to_list()"
   ]
  },
  {
   "cell_type": "code",
   "execution_count": 15,
   "id": "06125984-db3c-4742-9584-b0c8d24d7548",
   "metadata": {},
   "outputs": [],
   "source": [
    "near_index = vector_search(query=\"iPod with Pictures\",embeddings=embeddings)"
   ]
  },
  {
   "cell_type": "code",
   "execution_count": 16,
   "id": "5d0084de-4810-4a74-9d5c-4af045acb24c",
   "metadata": {},
   "outputs": [
    {
     "data": {
      "text/html": [
       "<div>\n",
       "<style scoped>\n",
       "    .dataframe tbody tr th:only-of-type {\n",
       "        vertical-align: middle;\n",
       "    }\n",
       "\n",
       "    .dataframe tbody tr th {\n",
       "        vertical-align: top;\n",
       "    }\n",
       "\n",
       "    .dataframe thead th {\n",
       "        text-align: right;\n",
       "    }\n",
       "</style>\n",
       "<table border=\"1\" class=\"dataframe\">\n",
       "  <thead>\n",
       "    <tr style=\"text-align: right;\">\n",
       "      <th></th>\n",
       "      <th>title</th>\n",
       "      <th>embedding</th>\n",
       "    </tr>\n",
       "  </thead>\n",
       "  <tbody>\n",
       "    <tr>\n",
       "      <th>3</th>\n",
       "      <td>U2 Can iPod with Pictures</td>\n",
       "      <td>[-0.020233619958162308, -0.016979355365037918,...</td>\n",
       "    </tr>\n",
       "    <tr>\n",
       "      <th>4</th>\n",
       "      <td>The Dream Factory</td>\n",
       "      <td>[-0.024849098175764084, -0.027221424505114555,...</td>\n",
       "    </tr>\n",
       "    <tr>\n",
       "      <th>8</th>\n",
       "      <td>Israeli Helicopter Fires Missile in Gaza -Witn...</td>\n",
       "      <td>[-0.025673702359199524, -0.015608667396008968,...</td>\n",
       "    </tr>\n",
       "  </tbody>\n",
       "</table>\n",
       "</div>"
      ],
      "text/plain": [
       "                                               title  \\\n",
       "3                          U2 Can iPod with Pictures   \n",
       "4                                  The Dream Factory   \n",
       "8  Israeli Helicopter Fires Missile in Gaza -Witn...   \n",
       "\n",
       "                                           embedding  \n",
       "3  [-0.020233619958162308, -0.016979355365037918,...  \n",
       "4  [-0.024849098175764084, -0.027221424505114555,...  \n",
       "8  [-0.025673702359199524, -0.015608667396008968,...  "
      ]
     },
     "execution_count": 16,
     "metadata": {},
     "output_type": "execute_result"
    }
   ],
   "source": [
    "df.iloc[near_index]"
   ]
  },
  {
   "cell_type": "code",
   "execution_count": null,
   "id": "1c11a5ab-6970-493a-b86f-c57273a2a86a",
   "metadata": {},
   "outputs": [],
   "source": []
  }
 ],
 "metadata": {
  "kernelspec": {
   "display_name": "Python 3 (ipykernel)",
   "language": "python",
   "name": "python3"
  },
  "language_info": {
   "codemirror_mode": {
    "name": "ipython",
    "version": 3
   },
   "file_extension": ".py",
   "mimetype": "text/x-python",
   "name": "python",
   "nbconvert_exporter": "python",
   "pygments_lexer": "ipython3",
   "version": "3.7.8"
  }
 },
 "nbformat": 4,
 "nbformat_minor": 5
}
